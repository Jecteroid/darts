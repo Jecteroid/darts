{
 "cells": [
  {
   "cell_type": "code",
   "execution_count": 5,
   "metadata": {},
   "outputs": [
    {
     "name": "stdout",
     "output_type": "stream",
     "text": [
      "[NbConvertApp] Converting notebook visualize.ipynb to script\n",
      "[NbConvertApp] Writing 2244 bytes to visualize.py\n"
     ]
    }
   ],
   "source": [
    "## please delete below code after convertion in converted script(py) file\n",
    "## + 필요없는 내용 삭제(초반부 1,3~14열, In[ ]형태의 주석제거)\n",
    "!jupyter nbconvert --to script visualize.ipynb\n",
    "!sed -i '/^#[ ]In\\[/d' visualize.py\n",
    "!sed -i -e '1d;3,14d' visualize.py"
   ]
  },
  {
   "cell_type": "code",
   "execution_count": null,
   "metadata": {},
   "outputs": [],
   "source": [
    "import sys\n",
    "from graphviz import Digraph\n",
    "import genotypes as gt"
   ]
  },
  {
   "cell_type": "code",
   "execution_count": 2,
   "metadata": {},
   "outputs": [],
   "source": [
    "def plot(genotype, file_path, caption=None):\n",
    "    edge_attr ={\n",
    "        'fontsize' : '20',\n",
    "        'fontname' : 'times'\n",
    "    }\n",
    "    node_attr ={\n",
    "        'style': 'filled',\n",
    "        'shape': 'rect',\n",
    "        'align': 'center',\n",
    "        'fontsize': '20',\n",
    "        'height': '0.5',\n",
    "        'width': '0.5',\n",
    "        'penwidth': '2',\n",
    "        'fontname': 'times'\n",
    "    }\n",
    "    \n",
    "    g = Digraph(format='png',edge_attr=edge_attr, node_attr=node_attr, engine='dot')\n",
    "    g.body.extend(['rankdir=LR'])\n",
    "    \n",
    "    # input nodes\n",
    "    g.node(\"c_{k-2}\", fillcolor='darkseagreen2')\n",
    "    g.node(\"c_{k-1}\", fillcolor='darkseagreen2')\n",
    "    \n",
    "    # intermediate nodes\n",
    "    n_nodes = len(genotype)\n",
    "    for i in range(n_nodes):\n",
    "        g.node(str(i), fillcolor='lightblue')\n",
    "        \n",
    "    for i, edges in enumerate(genotype):\n",
    "        for op, j in edges:\n",
    "            if j == 0:\n",
    "                u = \"c_{k-2}\"\n",
    "            elif j == 1:\n",
    "                u = \"c_{k-1}\"\n",
    "            else:\n",
    "                u = str(j-2)\n",
    "            \n",
    "            v = str(i)\n",
    "            g.edge(u, v, lagel=op, fillcolor=\"gray\")\n",
    "            \n",
    "    # output node\n",
    "    g.node(\"c_{k}\", fillcolor='palegoldenrod')\n",
    "    for i in range(n_nodes):\n",
    "        g.edge(str(i), \"c_{k}\", fillcolor=\"gray\")\n",
    "        \n",
    "    # add image caption\n",
    "    if caption:\n",
    "        g.attr(label=caption, overlap='false', fontsize='20', fontname='times')\n",
    "        \n",
    "    g.render(file_path, view=False)"
   ]
  },
  {
   "cell_type": "code",
   "execution_count": 2,
   "metadata": {},
   "outputs": [],
   "source": [
    "if __name__ == '__main__':\n",
    "    if len(sys.argv) != 2:\n",
    "        raise ValueError(\"usage:\\n python {} GENOTYPE\".format(sys.argv[0]))\n",
    "        \n",
    "    genotype_str = sys.argv[1]\n",
    "    try:\n",
    "        genotype = gt.from_str(genotype_str)\n",
    "    except AttributeError:\n",
    "        raise ValueError(\"Cannot parse {}\".format(genotype_str))\n",
    "        \n",
    "    plot(genotype.normal, \"normal\")\n",
    "    plot(genotype.reduce, \"reduction\")"
   ]
  }
 ],
 "metadata": {
  "kernelspec": {
   "display_name": "py36_torch1_cu10",
   "language": "python",
   "name": "py36_torch1_cu10"
  },
  "language_info": {
   "codemirror_mode": {
    "name": "ipython",
    "version": 3
   },
   "file_extension": ".py",
   "mimetype": "text/x-python",
   "name": "python",
   "nbconvert_exporter": "python",
   "pygments_lexer": "ipython3",
   "version": "3.6.8"
  }
 },
 "nbformat": 4,
 "nbformat_minor": 2
}
