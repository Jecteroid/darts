{
 "cells": [
  {
   "cell_type": "code",
   "execution_count": 5,
   "metadata": {},
   "outputs": [
    {
     "name": "stdout",
     "output_type": "stream",
     "text": [
      "[NbConvertApp] Converting notebook search_cells.ipynb to script\n",
      "[NbConvertApp] Writing 2313 bytes to search_cells.py\n"
     ]
    }
   ],
   "source": [
    "## please delete below code after convertion in converted script(py) file\n",
    "## + 필요없는 내용 삭제(초반부 1,3~14열, In[ ]형태의 주석제거)\n",
    "!jupyter nbconvert --to script search_cells.ipynb\n",
    "!sed -i '/^#[ ]In\\[/d' search_cells.py\n",
    "!sed -i -e '1d;3,14d' search_cells.py"
   ]
  },
  {
   "cell_type": "code",
   "execution_count": null,
   "metadata": {},
   "outputs": [],
   "source": [
    "import torch\n",
    "import torch.nn as nn\n",
    "from models import ops"
   ]
  },
  {
   "cell_type": "code",
   "execution_count": null,
   "metadata": {},
   "outputs": [],
   "source": [
    "class SearchCell(nn.Module):\n",
    "    \"\"\"\n",
    "    Cell\n",
    "    Each edge is mixed continuous relaxed.\n",
    "    \"\"\"\n",
    "    def __init__(self, n_nodes, C_pp, C_p, C, reduction_p, reduction):\n",
    "        \"\"\"\n",
    "        Args:\n",
    "            n_nodes: # of intermediate n_nodes\n",
    "            C_pp: C_out[k-2]\n",
    "            C_p : C_out[k-1]\n",
    "            C   : C_in[k] (current)\n",
    "            reduction_p: flag for whether the previous cell is reduction cell or not\n",
    "            reduction: flag for whether the current cell is reduction cell or not\n",
    "        \"\"\"\n",
    "        super().__init__()\n",
    "        self.reduction = reduction\n",
    "        self.n_nodes = n_nodes\n",
    "        \n",
    "        # If previous cell is reduction cell, current input size does not match with output size of cell[k-2].\n",
    "        # So the output[k-2] should be reduced by preprocessing.\n",
    "        if reduction_p:\n",
    "            self.preproc0 = ops.FactorizedReduce(C_pp, C, affine=False)\n",
    "        else:\n",
    "            self.preproc0 = ops.StdConv(C_pp, C, 1, 1, 0, affine=False)\n",
    "        self.preproc1 = ops.StdConv(C_p, C, 1, 1, 0, affine=False)\n",
    "        \n",
    "        #generate dag\n",
    "        self.dag = nn.ModuleList()\n",
    "        for i in range(self.n_nodes):\n",
    "            self.dag.append(nn.ModuleList())\n",
    "            for j in range(2+i): #include 2 input nodes\n",
    "                #reduction should be used only for input node\n",
    "                stride = 2 if reduction and j < 2 else 1\n",
    "                op = ops.MixedOp(C, stride)\n",
    "                self.dag[i].append(op)\n",
    "                \n",
    "    def forward(self, s0, s1, w_dag):\n",
    "        s0 = self.preproc0(s0)\n",
    "        s1 = self.preproc1(s1)\n",
    "        \n",
    "        states = [s0, s1]\n",
    "        for edges, w_list in zip(self.dag, w_dag):\n",
    "            s_cur = sum(edges[i](s,w) for i, (s,w) in enumerate(zip(states, w_list)))\n",
    "            states.append(s_cur)\n",
    "            \n",
    "        s_out = torch.cat(states[2:], dim=1)\n",
    "        return s_out"
   ]
  }
 ],
 "metadata": {
  "kernelspec": {
   "display_name": "py36_torch1_cu10",
   "language": "python",
   "name": "py36_torch1_cu10"
  },
  "language_info": {
   "codemirror_mode": {
    "name": "ipython",
    "version": 3
   },
   "file_extension": ".py",
   "mimetype": "text/x-python",
   "name": "python",
   "nbconvert_exporter": "python",
   "pygments_lexer": "ipython3",
   "version": "3.6.8"
  }
 },
 "nbformat": 4,
 "nbformat_minor": 2
}
