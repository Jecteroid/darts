{
 "cells": [
  {
   "cell_type": "code",
   "execution_count": 32,
   "metadata": {},
   "outputs": [
    {
     "name": "stdout",
     "output_type": "stream",
     "text": [
      "[NbConvertApp] Converting notebook ops.ipynb to script\n",
      "[NbConvertApp] Writing 6171 bytes to ops.py\n"
     ]
    }
   ],
   "source": [
    "## please delete below code after convertion in converted script(py) file\n",
    "## + 필요없는 내용 삭제(초반부 1,3~14열, In[ ]형태의 주석제거)\n",
    "!jupyter nbconvert --to script ops.ipynb\n",
    "!sed -i '/^#[ ]In\\[/d' ops.py\n",
    "!sed -i -e '1d;3,14d' ops.py"
   ]
  },
  {
   "cell_type": "code",
   "execution_count": null,
   "metadata": {},
   "outputs": [],
   "source": [
    "import torch\n",
    "import torch.nn as nn\n",
    "import genotypes as gt"
   ]
  },
  {
   "cell_type": "code",
   "execution_count": 8,
   "metadata": {},
   "outputs": [],
   "source": [
    "OPS = {\n",
    "    'none': lambda C, stride, affine: Zero(stride),\n",
    "    'avg_pool_3x3': lambda C, stride, affine: PoolBN('avg', C, 3, stride, 1, affine=affine),\n",
    "    'max_pool_3x3': lambda C, stride, affine: PoolBN('max', C, 3, stride, 1, affine=affine),\n",
    "    'skip_connect': lambda C, stride, affine: \\\n",
    "        Identity() if stride == 1 else FactorizedReduce(C, C, affine=affine),\n",
    "    'sep_conv_3x3': lambda C, stride, affine: SepConv(C, C, 3, stride, 1, affine=affine),\n",
    "    'sep_conv_5x5': lambda C, stride, affine: SepConv(C, C, 5, stride, 2, affine=affine),\n",
    "    'sep_conv_7x7': lambda C, stride, affine: SepConv(C, C, 7, stride, 3, affine=affine),\n",
    "    'dil_conv_3x3': lambda C, stride, affine: DilConv(C, C, 3, stride, 2, 2, affine=affine), # 5x5\n",
    "    'dil_conv_5x5': lambda C, stride, affine: DilConv(C, C, 5, stride, 4, 2, affine=affine), # 9x9\n",
    "    'conv_7x1_1x7': lambda C, stride, affine: FacConv(C, C, 7, stride, 3, affine=affine)\n",
    "}"
   ]
  },
  {
   "cell_type": "code",
   "execution_count": 10,
   "metadata": {},
   "outputs": [],
   "source": [
    "def drop_path_(x, drop_prob, training):\n",
    "    if training and drop_prob > 0.:\n",
    "        keep_prob = 1. - drop_prob\n",
    "        mask = torch.cuda.FloatTensor(x.size(0), 1, 1, 1).bernoulli_(keep_prob)\n",
    "        x.div_(keep_prob).mul_(mask)\n",
    "        \n",
    "    return x"
   ]
  },
  {
   "cell_type": "code",
   "execution_count": 12,
   "metadata": {},
   "outputs": [],
   "source": [
    "class DropPath_(nn.Module):\n",
    "    def __init__(self, p=0):\n",
    "        super().__init__()\n",
    "        self.p = p\n",
    "        \n",
    "    def extra_repr(self):\n",
    "        return 'p={}, inplace'.format(self.p)\n",
    "    \n",
    "    def forward(self, x):\n",
    "        drop_path_(x, self.p, self.training)\n",
    "        \n",
    "        return x"
   ]
  },
  {
   "cell_type": "code",
   "execution_count": 28,
   "metadata": {},
   "outputs": [],
   "source": [
    "class PoolBN(nn.Module):\n",
    "    \"\"\"\n",
    "    AvgPool or MaxPool - BN\n",
    "    \"\"\"\n",
    "    def __init__(self, pool_type, C, kernel_size, stride, padding, affine=True):\n",
    "        \"\"\"\n",
    "        Args:\n",
    "            pool_type : 'max' or 'avg'\n",
    "        \"\"\"\n",
    "        super().__init__()\n",
    "        if pool_type.lower() == 'max':\n",
    "            self.pool = nn.MaxPool2d(kernel_size, stride, padding)\n",
    "        elif pool_type.lower() == 'avg':\n",
    "            self.pool = nn.AvgPool2d(kernel_size, stride, padding, count_include_pad=False)\n",
    "        else:\n",
    "            raise ValueError()\n",
    "        \n",
    "        self.bn = nn.BatchNorm2d(C, affine=affine)\n",
    "        \n",
    "    def forward(self, x):\n",
    "        out = self.pool(x)\n",
    "        out = self.bn(out)\n",
    "        return out"
   ]
  },
  {
   "cell_type": "code",
   "execution_count": 14,
   "metadata": {},
   "outputs": [],
   "source": [
    "class StdConv(nn.Module):\n",
    "    \"\"\"\n",
    "    ReLU - conv2d - BN\n",
    "    \"\"\"\n",
    "    def __init__(self, C_in, C_out, kernel_size, stride, padding, affine=True):\n",
    "        super().__init__()\n",
    "        self.net = nn.Sequential(\n",
    "            nn.ReLU(),\n",
    "            nn.Conv2d(C_in, C_out, kernel_size, stride, padding, bias=False),\n",
    "            nn.BatchNorm2d(C_out, affine=affine)\n",
    "        )\n",
    "    \n",
    "    def forward(self, x):\n",
    "        return self.net(x)"
   ]
  },
  {
   "cell_type": "code",
   "execution_count": 16,
   "metadata": {},
   "outputs": [],
   "source": [
    "class FacConv(nn.Module):\n",
    "    \"\"\"\n",
    "    ReLU - conv - conv - BN\n",
    "    \"\"\"\n",
    "    def __init__(self, C_in, C_out, kernel_length, stride, padding, affine=True):\n",
    "        super().__init__()\n",
    "        self.net = nn.Sequential(\n",
    "            nn.ReLU(),\n",
    "            nn.Conv2d(C_in, C_in, (kernel_length, 1), stride, padding, bias=False),\n",
    "            nn.Conv2d(C_in, C_out, (1, kernel_length), stride, padding, bias=False),\n",
    "            nn.BatchNorm2d(C_out, affine=affine)\n",
    "        )\n",
    "    \n",
    "    def forward(self, x):\n",
    "        return self.net(x)"
   ]
  },
  {
   "cell_type": "code",
   "execution_count": 18,
   "metadata": {},
   "outputs": [],
   "source": [
    "class DilConv(nn.Module):\n",
    "    \"\"\"\n",
    "    ReLU - (dilated) depthwise separable - pointwise - BN\n",
    "    \n",
    "    If dilation == 2, 3x3 --> 5x5 receptive field\n",
    "                      5x5 --> 9x9 receptive field\n",
    "    \"\"\"\n",
    "    def __init__(self, C_in, C_out, kernel_size, stride, padding, dilation, affine=True):\n",
    "        super().__init__()\n",
    "        self.net = nn.Sequential(\n",
    "            nn.ReLU(),\n",
    "            nn.Conv2d(C_in, C_in, kernel_size, stride, padding, dilation=dilation, groups=C_in, bias=False),\n",
    "            nn.Conv2d(C_in, C_out, 1, stride=1, padding=0, bias=False),\n",
    "            nn.BatchNorm2d(C_out, affine=affine)\n",
    "        )\n",
    "        \n",
    "    def forward(self, x):\n",
    "        return self.net(x)"
   ]
  },
  {
   "cell_type": "code",
   "execution_count": 20,
   "metadata": {},
   "outputs": [],
   "source": [
    "class SepConv(nn.Module):\n",
    "    \"\"\"\n",
    "    DilConv(dilation=1) * 2\n",
    "    \"\"\"\n",
    "    def __init__(self, C_in, C_out, kernel_size, stride, padding, affine=True):\n",
    "        super().__init__()\n",
    "        self.net = nn.Sequential(\n",
    "            DilConv(C_in, C_in, kernel_size, stride, padding, dilation = 1, affine=affine),\n",
    "            DilConv(C_in, C_out, kernel_size, 1, padding, dilation=1, affine=affine)\n",
    "        )\n",
    "        \n",
    "    def forward(self, x):\n",
    "        return self.net(x)"
   ]
  },
  {
   "cell_type": "code",
   "execution_count": 22,
   "metadata": {},
   "outputs": [],
   "source": [
    "class Identity(nn.Module):\n",
    "    def __init__(self):\n",
    "        super().__init__()\n",
    "        \n",
    "    def forward(self, x):\n",
    "        return x\n",
    "    \n",
    "    \n",
    "class Zero(nn.Module):\n",
    "    def __init__(self, stride):\n",
    "        super().__init__()\n",
    "        self.stride = stride\n",
    "        \n",
    "    def forward(self, x):\n",
    "        if self.stride == 1:\n",
    "            return x * 0.\n",
    "        \n",
    "        return x[:, :, ::self.stride, ::self.stride] * 0."
   ]
  },
  {
   "cell_type": "code",
   "execution_count": 23,
   "metadata": {},
   "outputs": [],
   "source": [
    "class FactorizedReduce(nn.Module):\n",
    "    def __init__(self, C_in, C_out, affine=True):\n",
    "        super().__init__()\n",
    "        self.relu = nn.ReLU()\n",
    "        self.conv1 = nn.Conv2d(C_in, C_out // 2, 1, stride = 2, padding = 0, bias=False)\n",
    "        self.conv2 = nn.Conv2d(C_in, C_out // 2, 1, stride = 2, padding = 0, bias=False)\n",
    "        self.bn = nn.BatchNorm2d(C_out, affine=affine)\n",
    "        \n",
    "    def forward(self, x):\n",
    "        x = self.relu(x)\n",
    "        out = torch.cat([self.conv1(x), self.conv2(x[:, :, 1:, 1:])], dim=1)\n",
    "        out = self.bn(out)\n",
    "        return out"
   ]
  },
  {
   "cell_type": "code",
   "execution_count": 24,
   "metadata": {},
   "outputs": [],
   "source": [
    "class MixedOp(nn.Module):\n",
    "    def __init__(self, C, stride):\n",
    "        super().__init__()\n",
    "        self._ops = nn.ModuleList()\n",
    "        for primitive in gt.PRIMITIVES:\n",
    "            op = OPS[primitive](C, stride, affine=False)\n",
    "            self._ops.append(op)\n",
    "            \n",
    "    def forward(self, x, weights):\n",
    "        return sum(w*op(x) for w, op in zip(weights, self._ops))"
   ]
  },
  {
   "cell_type": "code",
   "execution_count": null,
   "metadata": {},
   "outputs": [],
   "source": []
  }
 ],
 "metadata": {
  "kernelspec": {
   "display_name": "py36_torch1_cu10",
   "language": "python",
   "name": "py36_torch1_cu10"
  },
  "language_info": {
   "codemirror_mode": {
    "name": "ipython",
    "version": 3
   },
   "file_extension": ".py",
   "mimetype": "text/x-python",
   "name": "python",
   "nbconvert_exporter": "python",
   "pygments_lexer": "ipython3",
   "version": "3.6.8"
  }
 },
 "nbformat": 4,
 "nbformat_minor": 2
}
