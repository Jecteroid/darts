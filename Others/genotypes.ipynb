{
 "cells": [
  {
   "cell_type": "code",
   "execution_count": 1,
   "metadata": {},
   "outputs": [
    {
     "name": "stdout",
     "output_type": "stream",
     "text": [
      "[NbConvertApp] Converting notebook genotypes.ipynb to script\n",
      "[NbConvertApp] Writing 2332 bytes to genotypes.py\n"
     ]
    }
   ],
   "source": [
    "## please delete below code after convertion in converted script(py) file\n",
    "## + 필요없는 내용 삭제(초반부 1,3~14열, In[ ]형태의 주석제거)\n",
    "!jupyter nbconvert --to script genotypes.ipynb\n",
    "!sed -i '/^#[ ]In\\[/d' genotypes.py\n",
    "!sed -i -e '1d;3,14d' genotypes.py"
   ]
  },
  {
   "cell_type": "code",
   "execution_count": null,
   "metadata": {},
   "outputs": [],
   "source": [
    "from collections import namedtuple\n",
    "import torch\n",
    "import torch.nn as nn\n",
    "from models import ops"
   ]
  },
  {
   "cell_type": "code",
   "execution_count": null,
   "metadata": {},
   "outputs": [],
   "source": [
    "Genotype = namedtuple('Genotype','normal normal_concat reduce reduce_concat')\n",
    "\n",
    "PRIMITIVES = [\n",
    "    'max_pool_3x3',\n",
    "    'avg_pool_3x3',\n",
    "    'skip_connect', # identity\n",
    "    'sep_conv_3x3',\n",
    "    'sep_conv_5x5',\n",
    "    'dil_conv_3x3',\n",
    "    'dil_conv_5x5',\n",
    "    'none'\n",
    "]"
   ]
  },
  {
   "cell_type": "code",
   "execution_count": 3,
   "metadata": {},
   "outputs": [],
   "source": [
    "def to_dag(C_in, gene, reduction):\n",
    "    \"\"\"generate discrete ops from gene\"\"\"\n",
    "    dag = nn.ModuleList()\n",
    "    for edges in gene:\n",
    "        row = nn.ModuleList()\n",
    "        for op_name, s_idx in edges:\n",
    "            \n",
    "            stride = 2 if reduction and s_idx < 2 else 1\n",
    "            op = ops.OPS[op_name](C_in, stride, True)\n",
    "            if not isinstance(op, ops.Identity):\n",
    "                op = nn.Sequential(\n",
    "                    op,\n",
    "                    ops.DropPath_()\n",
    "                )\n",
    "            op.s_idx = s_idx\n",
    "            row.append(op)\n",
    "        dag.append(row)\n",
    "    return dag"
   ]
  },
  {
   "cell_type": "code",
   "execution_count": null,
   "metadata": {},
   "outputs": [],
   "source": [
    "def from_str(s):\n",
    "    genotype = eval(s)\n",
    "    return genotype\n",
    "\n",
    "\n",
    "def parse(alpha, k):\n",
    "    \"\"\"\n",
    "    parse continuous alpha to discrete gene.\n",
    "    alpha is ParameterList:\n",
    "    ParameterList [\n",
    "        Parameter(n_edges1, n_ops),\n",
    "        Parameter(n_edges2, n_ops),\n",
    "        ...\n",
    "    ]\n",
    "\n",
    "    gene is list:\n",
    "    [\n",
    "        [('node1_ops_1', node_idx), ..., ('node1_ops_k', node_idx)],\n",
    "        [('node2_ops_1', node_idx), ..., ('node2_ops_k', node_idx)],\n",
    "        ...\n",
    "    ]\n",
    "    each node has two edges (k=2) in CNN.\n",
    "    \"\"\"\n",
    "    gene = []\n",
    "    assert PRIMITIVES[-1] == 'none'\n",
    "    \n",
    "    for edges in alpha:\n",
    "        edge_max, primitive_indices = torch.topk(edges[:, :-1], 1)\n",
    "        topk_edge_values, topk_edge_indices = torch.topk(edge_max.view(-1), k)\n",
    "        node_gene = []\n",
    "        for edge_idx in topk_edge_indices:\n",
    "            prim_idx = primitive_indices[edge_idx]\n",
    "            prim = PRIMITIVES[prim_idx]\n",
    "            node_gene.append((prim, edge_idx.item()))\n",
    "            \n",
    "        gene.append(node_gene)\n",
    "        \n",
    "    return gene"
   ]
  }
 ],
 "metadata": {
  "kernelspec": {
   "display_name": "py36_torch1_cu10",
   "language": "python",
   "name": "py36_torch1_cu10"
  },
  "language_info": {
   "codemirror_mode": {
    "name": "ipython",
    "version": 3
   },
   "file_extension": ".py",
   "mimetype": "text/x-python",
   "name": "python",
   "nbconvert_exporter": "python",
   "pygments_lexer": "ipython3",
   "version": "3.6.8"
  }
 },
 "nbformat": 4,
 "nbformat_minor": 2
}
