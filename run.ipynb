{
 "cells": [
  {
   "cell_type": "code",
   "execution_count": null,
   "metadata": {},
   "outputs": [],
   "source": [
    "## please delete after code convertion in converted py file\n",
    "!jupyter nbconvert --to script run.ipynb"
   ]
  },
  {
   "cell_type": "code",
   "execution_count": 1,
   "metadata": {},
   "outputs": [
    {
     "name": "stdout",
     "output_type": "stream",
     "text": [
      "imported models\n",
      "imported utils\n"
     ]
    }
   ],
   "source": [
    "import models\n",
    "import utils\n",
    "\n",
    "import argparse\n",
    "import torch\n",
    "import logging\n",
    "import torch.nn as nn\n",
    "from torch import optim\n",
    "import torchvision.datasets as dset\n",
    "import torch.backends.cudnn as cudnn"
   ]
  },
  {
   "cell_type": "code",
   "execution_count": null,
   "metadata": {},
   "outputs": [],
   "source": [
    "parser = argparse.ArgumentParser(\"cifar\")\n",
    "parser.add_argument('--data', type=str, default='../data', help=\"location of the data corpus\")\n",
    "parser.add_argument('--batchsz', type=int, default=64, help=\"batch size\")\n",
    "parser.add_argument('--lr', type=float, default=0.025, help='init learning rate')\n",
    "parser.add_argument('--lr_min', type=float, default=0.001, help='min learning rate')\n",
    "parser.add_argument('--momentum', type=float, default=0.9, help='momentum')\n",
    "parser.add_argument('--wd',type=float, default=3e-4, help='weight decay')\n",
    "parser.add_argument('--report_freq', type=float, default=50, help='report frequency')\n",
    "parser.add_argument('--gpu', type=int, default=0, help='gpu device id')\n",
    "parser.add_argument('--epochs', type=int, default=50, help='num of training epochs')\n",
    "parser.add_argument('--init_ch',type=int, default=16, help='num of init channels')\n",
    "parser.add_argument('--layers',type=int, default=8, help='total number of layers')\n",
    "parser.add_argument('--model_path',type=str, default='saved_models', help='path to save the model')\n",
    "\n",
    "\n",
    "parser.add_argument('--seed',type=str, default=2, help='set random seed')\n",
    "\n",
    "parser.add_argument('--unrolled', action = 'store_true', default=False, help='use one-step unrolled validation loss')\n",
    "\n",
    "args = parser.parse_args()\n",
    "print(args.data, args.batchsz)"
   ]
  },
  {
   "cell_type": "code",
   "execution_count": 3,
   "metadata": {},
   "outputs": [],
   "source": [
    "def main():\n",
    "    np.random.seed(args.seed)\n",
    "    cudnn.benchmark = True\n",
    "    cudnn.enabled= True\n",
    "    torch.manual_seed(args.seed)\n",
    "    \n",
    "    total, uset = os.opoen('nvidia-smi --query-gpu=memory.total,memory.used --format=csv,nounits,noheader'\n",
    "                        ).read().split('\\n')[args.gpu].split(',')\n",
    "    total = int(total)\n",
    "    used = int(used)\n",
    "    \n",
    "    print('GPU:',total,' used:',used)\n",
    "    \n",
    "    args.unrolled = True\n",
    "    \n",
    "    logging.info(\"GPU device = %d\"%args.gpu)\n",
    "    logging.info(\"args = %s\"%args)\n",
    "    \n",
    "    criterion = nn.CrossEntropyLoss().to(device)\n",
    "    model = Network(args.init_ch, 10, args.layers, creterion).to(device)\n",
    "    \n",
    "    logging.info(\"total param size = %.4f MB\",utils.count_parameters_in_MB(model))\n",
    "    \n",
    "    "
   ]
  },
  {
   "cell_type": "code",
   "execution_count": null,
   "metadata": {},
   "outputs": [],
   "source": []
  }
 ],
 "metadata": {
  "kernelspec": {
   "display_name": "py36_torch1_cu10",
   "language": "python",
   "name": "py36_torch1_cu10"
  },
  "language_info": {
   "codemirror_mode": {
    "name": "ipython",
    "version": 3
   },
   "file_extension": ".py",
   "mimetype": "text/x-python",
   "name": "python",
   "nbconvert_exporter": "python",
   "pygments_lexer": "ipython3",
   "version": "3.6.8"
  }
 },
 "nbformat": 4,
 "nbformat_minor": 2
}
