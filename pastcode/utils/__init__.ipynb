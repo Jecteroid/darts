{
 "cells": [
  {
   "cell_type": "code",
   "execution_count": 5,
   "metadata": {},
   "outputs": [
    {
     "name": "stdout",
     "output_type": "stream",
     "text": [
      "[NbConvertApp] Converting notebook __init__.ipynb to script\n",
      "[NbConvertApp] Writing 3719 bytes to __init__.py\n"
     ]
    }
   ],
   "source": [
    "## please delete after code convertion in converted py file\n",
    "!jupyter nbconvert --to script __init__.ipynb"
   ]
  },
  {
   "cell_type": "code",
   "execution_count": null,
   "metadata": {},
   "outputs": [],
   "source": [
    "import  os\n",
    "import  numpy as np\n",
    "import  torch\n",
    "import  shutil\n",
    "import  torchvision.transforms as transforms\n",
    "\n",
    "print(\"imported utils lib\")"
   ]
  },
  {
   "cell_type": "code",
   "execution_count": 2,
   "metadata": {},
   "outputs": [],
   "source": [
    "class AverageMeter:\n",
    "    def __init__(self):\n",
    "        self.reset()\n",
    "        \n",
    "    def reset(self):\n",
    "        self.avg = 0\n",
    "        self.sum = 0\n",
    "        self.cnt = 0\n",
    "        \n",
    "    def update(self, val, n=1):\n",
    "        self.sum += val * n\n",
    "        self.cnt += n\n",
    "        self.avg = self.sum / self.cnt"
   ]
  },
  {
   "cell_type": "code",
   "execution_count": 3,
   "metadata": {},
   "outputs": [],
   "source": [
    "def accuracy(output, target, topk=(1,)):\n",
    "    \n",
    "    maxk = max(topk)\n",
    "    batch_size = target.size(0)\n",
    "    \n",
    "    _, pred = output.topk(maxk, 1, True, True)\n",
    "    pred = pred.t()\n",
    "    correct = pred.eq(target.view(1, -1).expand_as(pred))\n",
    "    \n",
    "    res = []\n",
    "    for k in topk:\n",
    "        correct_k = correct[:k].view(-1).float().sum(0)\n",
    "        res.append(correct_k.mul_(100.0 / batch_size))\n",
    "                   \n",
    "    return res\n",
    "                   \n",
    "class Cutout:\n",
    "    def __init__(self, length):\n",
    "        self.length = length\n",
    "    \n",
    "    def __call__(self, img):\n",
    "        h, w = img.size(1), img.size(2)\n",
    "        mask = np.ones((h,w),np.float32)\n",
    "        y = np.random.randint(h)\n",
    "        x = np.random.randint(w)\n",
    "    \n",
    "        y1 = np.clip(y - self.length // 2, 0, h)\n",
    "        y2 = np.clip(y + self.length // 2, 0, h)\n",
    "        x1 = np.clip(x - self.length // 2, 0 ,w)\n",
    "        x2 = np.clip(x + self.lenfth // 2, 0, w)\n",
    "        \n",
    "        mask[y1: y2, x1: x2] = 0.\n",
    "        mask = torch.from_numpy(mask)\n",
    "        mask = mask.expand_as(img)\n",
    "        img *= mask\n",
    "        return img\n",
    "    \n",
    "def _data_transforms_cifar10(args):\n",
    "    CIFAR_MEAN = [0.49139968, 0.48215827, 0.44653124]\n",
    "    CIFAR_STD = [0.24703233, 0.24348505, 0.26158768]\n",
    "\n",
    "    train_transform = transforms.Compose([\n",
    "        transforms.RandomCrop(32, padding=4),\n",
    "        transforms.RandomHorizontalFlip(),\n",
    "        transforms.ToTensor(),\n",
    "        transforms.Normalize(CIFAR_MEAN, CIFAR_STD)\n",
    "    ])\n",
    "    \n",
    "    if args.cutout:\n",
    "        train_transform.transforms.append(Cutout(args.cutout_length))\n",
    "        \n",
    "    valid_transform = transforms.Compose([\n",
    "        transforms.ToTensor(),\n",
    "        transforms.Normalize(CIFAR_MEAN, CIFAR_STD)\n",
    "    ])\n",
    "    return train_transform, valid_transform"
   ]
  },
  {
   "cell_type": "code",
   "execution_count": 3,
   "metadata": {},
   "outputs": [],
   "source": [
    "def count_parameters_in_MB(model):\n",
    "    return np.sum(v.numel() for name, v in model.named_parameters() if \"auxiliay\" not in name) / 1e6\n",
    "\n",
    "\n",
    "def save_checkpoint(state, is_best, save):\n",
    "    filename = os.path.join(save, 'checkpoint.pth.tar')\n",
    "    torch.save(state, filename)\n",
    "    if is_best:\n",
    "        best_filename = os.path.join(save, 'model_best.pth.tar')\n",
    "        shutil.copyfile(filename, best_filename)\n",
    "        \n",
    "\n",
    "def save(model, model_path):\n",
    "    print('saved to model:',model_path)\n",
    "    torch.save(model.state_dict(), model_path)\n",
    "    \n",
    "\n",
    "def load(model, model_path):\n",
    "    print('load from model:', model_path)\n",
    "    model.load_state_dict(torch.load(model_path))\n",
    "    \n",
    "\n",
    "def drop_path(x, drop_prob):\n",
    "    if drop_prob > 0.:\n",
    "        keep_prob = 1. - drop_prob\n",
    "        mask = torch.cuda.FloatTensor(x.size(0),1,1,1).bernoulli_(keep_prob)\n",
    "        x.div_(keep_prob)\n",
    "        x.mul_(mask)\n",
    "    return x\n",
    "\n",
    "\n",
    "def create_exp_dir(path, scripts_to_save=None):\n",
    "    if not os.path.exists(path):\n",
    "        os.mkdir(path)\n",
    "    print('Experiment dir : {}'.format(path))\n",
    "    \n",
    "    if scripts_to_save is not None:\n",
    "        if not os.path.exists(os.path.join(path, 'scripts')):\n",
    "            os.mkdir(os.path.join(path, 'scripts'))\n",
    "        for script in scripts_to_save:\n",
    "            dst_file = os.path.join(path, 'scripts', os.path.basename(script))\n",
    "            shutil.copyfile(script, dst_file)\n",
    "                   "
   ]
  }
 ],
 "metadata": {
  "kernelspec": {
   "display_name": "Python 3",
   "language": "python",
   "name": "python3"
  },
  "language_info": {
   "codemirror_mode": {
    "name": "ipython",
    "version": 3
   },
   "file_extension": ".py",
   "mimetype": "text/x-python",
   "name": "python",
   "nbconvert_exporter": "python",
   "pygments_lexer": "ipython3",
   "version": "3.7.0"
  }
 },
 "nbformat": 4,
 "nbformat_minor": 2
}
