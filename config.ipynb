{
 "cells": [
  {
   "cell_type": "code",
   "execution_count": 1,
   "metadata": {},
   "outputs": [
    {
     "name": "stdout",
     "output_type": "stream",
     "text": [
      "[NbConvertApp] Converting notebook config.ipynb to script\n",
      "[NbConvertApp] Writing 5895 bytes to config.py\n"
     ]
    }
   ],
   "source": [
    "## please delete below code after convertion in converted script(py) file\n",
    "## + 필요없는 내용 삭제(초반부 1,3~14열, In[ ]형태의 주석제거)\n",
    "!jupyter nbconvert --to script config.ipynb\n",
    "!sed -i '/^#[ ]In\\[/d' config.py\n",
    "!sed -i -e '1d;3,14d' config.py"
   ]
  },
  {
   "cell_type": "code",
   "execution_count": null,
   "metadata": {},
   "outputs": [],
   "source": [
    "import argparse\n",
    "import os\n",
    "import genotypes as gt\n",
    "from functools import partial\n",
    "import torch"
   ]
  },
  {
   "cell_type": "code",
   "execution_count": 2,
   "metadata": {},
   "outputs": [],
   "source": [
    "def get_parser(name):\n",
    "    parser = argparse.ArgumentParser(name, formatter_class=argparse.ArgumentDefaultsHelpFormatter)\n",
    "    parser.add_argument = partial(parser.add_argument, help=' ')\n",
    "    return parser"
   ]
  },
  {
   "cell_type": "code",
   "execution_count": 4,
   "metadata": {},
   "outputs": [],
   "source": [
    "def parse_gpus(gpus):\n",
    "    if gpus == 'all':\n",
    "        return list(range(torch.cuda.device_count()))\n",
    "    else:\n",
    "        return [int(s) for s in gpus.split(',')]"
   ]
  },
  {
   "cell_type": "code",
   "execution_count": 5,
   "metadata": {},
   "outputs": [],
   "source": [
    "class BaseConfig(argparse.Namespace):\n",
    "    def print_params(self, prtf=print):\n",
    "        prtf(\"\")\n",
    "        prtf(\"Parameters:\")\n",
    "        for attr, value in sorted(vars(self).items()):\n",
    "            prtf(\"{}={}\".format(attr.upper(),value))\n",
    "        prtf(\"\")\n",
    "    \n",
    "    def as_markdown(self):\n",
    "        text = \"|name|value|  \\n|-|-|  \\n\"\n",
    "        for attr, value in sorted(vars(self).items()):\n",
    "            text += \"|{}|{}|  \\n\".format(attr, value)\n",
    "            \n",
    "        return text"
   ]
  },
  {
   "cell_type": "code",
   "execution_count": 11,
   "metadata": {},
   "outputs": [],
   "source": [
    "class SearchConfig(BaseConfig):\n",
    "\n",
    "    def build_parser(self):\n",
    "        parser = get_parser(\"Search config\")\n",
    "        parser.add_argument('--name', required=True, help='set project name')\n",
    "        parser.add_argument('--dataset', required=True, help='CIFAR10 // MNIST // FashionMNIST')\n",
    "        parser.add_argument('--data_path', type=str, default='../data/', help='dataset path')\n",
    "        \n",
    "        parser.add_argument('--batch_size', type=int, default=64, help='batch size')\n",
    "        parser.add_argument('--w_lr', type=float, default=0.025, help='lr for weights')\n",
    "        parser.add_argument('--w_lr_min', type=float, default=0.001, help='minimum lr for weights')\n",
    "        parser.add_argument('--w_momentum', type=float, default=0.9, help='momentum for weights')\n",
    "        parser.add_argument('--w_weight_decay', type=float, default=3e-4, help='weight decay for weights')\n",
    "        parser.add_argument('--w_grad_clip', type=float, default=5., help='gradient clipping for weights')\n",
    "        parser.add_argument('--print_freq', type=int, default=50, help='print frequency')\n",
    "        parser.add_argument('--gpus', default='0', help='gpu device ids separated by comma. '\n",
    "                            '`all` indicates use all gpus.')\n",
    "        parser.add_argument('--epochs', type=int, default=100, help='# of training epochs')\n",
    "        parser.add_argument('--init_channels', type=int, default=16, help='set amount of channels')\n",
    "        parser.add_argument('--layers', type=int, default=8, help='# or layers')\n",
    "        parser.add_argument('--seed', type=int, default=2, help='random seed')\n",
    "        parser.add_argument('--workers', type=int, default=4, help='# of workers')\n",
    "        parser.add_argument('--alpha_lr', type=float, default=3e-4, help='lr for alpha')\n",
    "        parser.add_argument('--alpha_weight_decay', type=float, default=1e-3, help='weight decay for alpha')\n",
    "        \n",
    "        return parser\n",
    "    \n",
    "    def __init__(self):\n",
    "        parser = self.build_parser()\n",
    "        args = parser.parse_args()\n",
    "        super().__init__(**vars(args))\n",
    "        \n",
    "        self.data_path = args.data_path #'../../data/'\n",
    "        self.path = os.path.join('searchs',self.name)\n",
    "        self.plot_path = os.path.join(self.path, 'plots')\n",
    "        self.gpus = parse_gpus(self.gpus)\n",
    "        "
   ]
  },
  {
   "cell_type": "code",
   "execution_count": 12,
   "metadata": {},
   "outputs": [],
   "source": [
    "class AugmentConfig(BaseConfig):\n",
    "        \n",
    "    def build_parser(self):\n",
    "        parser = get_parser(\"Augment config\")\n",
    "        parser.add_argument('--name', required=True, help='set project name')\n",
    "        parser.add_argument('--dataset', required=True, help='CIFAR10 // MNIST // FashionMNIST')\n",
    "        parser.add_argument('--data_path', type=str, default='../data/', help='dataset path')\n",
    "            \n",
    "        parser.add_argument('--batch_size', type=int, default=96, help='batch size')\n",
    "        parser.add_argument('--lr', type=float, default=0.025, help='lr for weights')\n",
    "        parser.add_argument('--momentum', type=float, default=0.9, help='momentum for weights')\n",
    "        parser.add_argument('--weight_decay', type=float, default=3e-4, help='weight decay for weights')\n",
    "        parser.add_argument('--grad_clip', type=float, default=5., help='gradient clipping for weights')\n",
    "        parser.add_argument('--print_freq', type=int, default=100, help='print frequency')\n",
    "        parser.add_argument('--gpus', default='0', help='gpu device ids separated by comma. '\n",
    "                            '`all` indicates use all gpus.')\n",
    "        parser.add_argument('--epochs', type=int, default=300, help='# of training epochs')\n",
    "        parser.add_argument('--init_channels', type=int, default=36, help='set amount of channels')\n",
    "        parser.add_argument('--layers', type=int, default=20, help='# or layers')\n",
    "        parser.add_argument('--seed', type=int, default=2, help='random seed')\n",
    "        parser.add_argument('--workers', type=int, default=4, help='# of workers')\n",
    "        parser.add_argument('--aux_weight', type=float, default=0.4, help='auxiliary loss weight')\n",
    "        parser.add_argument('--cutout_length', type=int, default=16, help='cutout length')\n",
    "        parser.add_argument('--drop_path_prob', type=float, default=0.2, help='drop path prob')\n",
    "        \n",
    "        parser.add_argument('--genotype', required=True, help='Cell genotype')\n",
    "        \n",
    "        return parser\n",
    "    \n",
    "    \n",
    "    def __init__(self):\n",
    "        parser = self.build_parser()\n",
    "        args = parser.parse_args()\n",
    "        super().__init__(**vars(args))\n",
    "        \n",
    "        self.data_path = args.data_path\n",
    "        self.path = os.path.join('augments',self.name)\n",
    "        self.genotype = gt.from_str(self.genotype)\n",
    "        self.gpus = parse_gpus(self.gpus)"
   ]
  }
 ],
 "metadata": {
  "kernelspec": {
   "display_name": "py36_torch1_cu10",
   "language": "python",
   "name": "py36_torch1_cu10"
  },
  "language_info": {
   "codemirror_mode": {
    "name": "ipython",
    "version": 3
   },
   "file_extension": ".py",
   "mimetype": "text/x-python",
   "name": "python",
   "nbconvert_exporter": "python",
   "pygments_lexer": "ipython3",
   "version": "3.6.8"
  }
 },
 "nbformat": 4,
 "nbformat_minor": 2
}
