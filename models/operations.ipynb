{
 "cells": [
  {
   "cell_type": "code",
   "execution_count": 13,
   "metadata": {},
   "outputs": [
    {
     "name": "stdout",
     "output_type": "stream",
     "text": [
      "[NbConvertApp] Converting notebook operations.ipynb to script\n",
      "[NbConvertApp] Writing 4478 bytes to operations.py\n"
     ]
    }
   ],
   "source": [
    "## please delete below code after convertion in converted script(py) file\n",
    "!jupyter nbconvert --to script operations.ipynb"
   ]
  },
  {
   "cell_type": "code",
   "execution_count": 1,
   "metadata": {},
   "outputs": [],
   "source": [
    "import torch\n",
    "import torch.nn as nn"
   ]
  },
  {
   "cell_type": "code",
   "execution_count": 2,
   "metadata": {},
   "outputs": [],
   "source": [
    "# a set of layers with same input/output channel.\n",
    "OPS = {\n",
    "    'none' : lambda C, stride, affine: Zero(stride),\n",
    "    'avg_pool_3x3': lambda C, stride, affine: nn.AvgPool2d(3, stride=stride, padding=1, count_include_pad=False),\n",
    "    'max_pool_3x3': lambda C, stride, affine: nn.MaxPool2d(2, stride=stride, padding=1),\n",
    "    'skip_connect': lambda C, stride, affine: Identity() if stride == 1 else FactorizedReduce(C, C, affine=affine),\n",
    "    'sep_conv_3x3': lambda C, stride, affine: SepConv(C,C,3,stride, 1, affine=affine),\n",
    "    'sep_conv_5x5': lambda C, stride, affine: SepConv(C,C,5,stride, 2, affine=affine),\n",
    "    'sep_conv_7x7': lambda C, stride, affine: SepConv(C,C,7,stride, 3, affine=affine),\n",
    "    'dil_conv_3x3': lambda C, stride, affine: DilConv(C,C,3,stride, 2,2, affine=affine),\n",
    "    'dil_conv_5x5': lambda C, stride, affine: DilConv(C,C,5,stride, 4,2, affine=affine),\n",
    "    \n",
    "    'conv_7x1_1x7': lambda C, stride, affine: nn.Sequential(\n",
    "        nn.ReLU(inplace=False),\n",
    "        nn.Conv2d(C, C, (1,7), stride=(1,stride), padding=(0,3), bias=False),\n",
    "        nn.Conv2d(C, C, (7,1), stride=(stride,1), padding=(3,0), bias=False),\n",
    "        nn.BatchNorm2d(C, affine=affine)\n",
    "    ),\n",
    "}"
   ]
  },
  {
   "cell_type": "code",
   "execution_count": 3,
   "metadata": {},
   "outputs": [],
   "source": [
    "class ReLUConvBN(nn.Module):\n",
    "    def __init__(self, C_in, C_out, kernel_size, stride, padding, affine=True):\n",
    "        super(ReLUConvBN, self).__init__()\n",
    "        \n",
    "        self.op = nn.Sequential(\n",
    "            nn.ReLU(inplace=False),\n",
    "            nn.Conv2d(C_in, C_out, kernel_size, stride=stride, padding=padding, bias=False),\n",
    "            nn.BatchNorm2d(C_out, affine=affine)\n",
    "        )\n",
    "    \n",
    "    def forward(self,x):\n",
    "        return self.op(x)\n"
   ]
  },
  {
   "cell_type": "code",
   "execution_count": 4,
   "metadata": {},
   "outputs": [],
   "source": [
    "class DilConv(nn.Module):\n",
    "    def __init__(self, C_in, C_out, kernel_size, stride, padding, dilation, affine=True):\n",
    "        super(DilConv, self).__init__()\n",
    "        \n",
    "        self.op = nn.Sequential(\n",
    "            nn.ReLU(inplace=False),\n",
    "            nn.Conv2d(C_in, C_in, kernel_size=kernel_size, stride=stride,\n",
    "                      padding=padding, dilation=dilation, groups=C_in, bias=False),\n",
    "            nn.Conv2d(C_in, C_out, kernel_size=1, padding=0, bias=False),\n",
    "            nn.BatchNorm2d(C_out, affine=affine)\n",
    "        )\n",
    "    \n",
    "    def forward(self, x):\n",
    "        return self.op(x)\n",
    "    "
   ]
  },
  {
   "cell_type": "code",
   "execution_count": 6,
   "metadata": {},
   "outputs": [],
   "source": [
    "class SepConv(nn.Module):\n",
    "    def __init__(self, C_in, C_out, kernel_size, stride, padding, affine=True):\n",
    "        super(SepConv, self).__init__()\n",
    "        \n",
    "        self.op = nn.Sequential(\n",
    "            nn.ReLU(inplace=False),\n",
    "            nn.Conv2d(C_in, C_in, kernel_size=kernel_size, stride=stride, padding=padding,\n",
    "                      groups=C_in, bias=False),\n",
    "            nn.Conv2d(C_in, C_in, kernel_size=1, padding=0, bias=False),\n",
    "            nn.BatchNorm2d(C_in, affine=affine),\n",
    "            nn.ReLU(inplace=False),\n",
    "            nn.Conv2d(C_in, C_in, kernel_size=kernel_size, stride=stride, padding=padding,\n",
    "                      groups=C_in, bias=False),\n",
    "            nn.Conv2d(C_in, C_in, kernel_size=1, padding=0, bias=False),\n",
    "            nn.BatchNorm2d(C_out, affine=affine),\n",
    "        )\n",
    "    \n",
    "    def forward(self, x):\n",
    "        return self.op(x)\n",
    "    "
   ]
  },
  {
   "cell_type": "code",
   "execution_count": 7,
   "metadata": {},
   "outputs": [],
   "source": [
    "class Identity(nn.Module):\n",
    "    \n",
    "    def __init__(self):\n",
    "        super(Identity, self).__init__()\n",
    "        \n",
    "    def forward(self, x):\n",
    "        return x"
   ]
  },
  {
   "cell_type": "code",
   "execution_count": 8,
   "metadata": {},
   "outputs": [],
   "source": [
    "class Zero(nn.Module):\n",
    "    \n",
    "    def __init__(self, stride):\n",
    "        super(Zero, self).__init__()\n",
    "        self.stride= stride\n",
    "        \n",
    "    def forward(self, x):\n",
    "        if self.stride == 1:\n",
    "            return x.mul(0.)\n",
    "        return x[:, :, ::self.stride, ::self.stride].mul(0.)\n"
   ]
  },
  {
   "cell_type": "code",
   "execution_count": 10,
   "metadata": {},
   "outputs": [],
   "source": [
    "class FactorizedReduce(nn.Module):\n",
    "    \n",
    "    def __init__(self, C_in, C_out, affine=True):\n",
    "        super(FactorizedReduce, self).__init__()\n",
    "        \n",
    "        assert C_out % 2 == 0\n",
    "        \n",
    "        self.relu = nn.ReLU(inplace=False)\n",
    "        self.conv_1 = nn.Conv2d(C_in, C_out // 2, 1, stride=2, padding=0, bias=False)\n",
    "        self.conv_2 = nn.Conv2d(C_in, C_out // 2, 1, stride=2, padding=0, bias=False)\n",
    "        self.bn = nn.BatchNorm2d(C_out, affine=affine)\n",
    "        \n",
    "    def forward(self, x):\n",
    "        x = self.relu(x)\n",
    "        \n",
    "        out = torch.cat([self.conv_1(x), self.conv_2(x[:, :, 1:, 1:])], dim=1)\n",
    "        out = self.bn(out)\n",
    "        \n",
    "        return out"
   ]
  }
 ],
 "metadata": {
  "kernelspec": {
   "display_name": "py36_torch1_cu10",
   "language": "python",
   "name": "py36_torch1_cu10"
  },
  "language_info": {
   "codemirror_mode": {
    "name": "ipython",
    "version": 3
   },
   "file_extension": ".py",
   "mimetype": "text/x-python",
   "name": "python",
   "nbconvert_exporter": "python",
   "pygments_lexer": "ipython3",
   "version": "3.6.8"
  }
 },
 "nbformat": 4,
 "nbformat_minor": 2
}
