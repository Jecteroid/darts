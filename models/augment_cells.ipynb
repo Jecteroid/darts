{
 "cells": [
  {
   "cell_type": "code",
   "execution_count": 1,
   "metadata": {},
   "outputs": [
    {
     "name": "stdout",
     "output_type": "stream",
     "text": [
      "[NbConvertApp] Converting notebook augment_cells.ipynb to script\n",
      "[NbConvertApp] Writing 1566 bytes to augment_cells.py\n"
     ]
    }
   ],
   "source": [
    "## please delete below code after convertion in converted script(py) file\n",
    "## + 필요없는 내용 삭제(초반부 1,3~14열, In[ ]형태의 주석제거)\n",
    "!jupyter nbconvert --to script augment_cells.ipynb\n",
    "!sed -i '/^#[ ]In\\[/d' augment_cells.py\n",
    "!sed -i -e '1d;3,14d' augment_cells.py"
   ]
  },
  {
   "cell_type": "code",
   "execution_count": null,
   "metadata": {},
   "outputs": [],
   "source": [
    "import torch\n",
    "import torch.nn as nn\n",
    "from models import ops\n",
    "import genotypes as gt"
   ]
  },
  {
   "cell_type": "code",
   "execution_count": null,
   "metadata": {},
   "outputs": [],
   "source": [
    "class AugmentCell(nn.Module):\n",
    "    def __init__(self, genotype, C_pp, C_p, C, reduction_p, reduction):\n",
    "        super().__init__()\n",
    "        self.reduction = reduction\n",
    "        self.n_nodes = len(genotype.normal)\n",
    "        \n",
    "        if reduction_p:\n",
    "            self.preproc0 = ops.FactorizedReduce(C_pp, C)\n",
    "        else:\n",
    "            self.preproc0 = ops.StdConv(C_pp, C, 1, 1, 0)\n",
    "        self.preproc1 = ops.StdConv(C_p, C, 1, 1, 0)\n",
    "        \n",
    "        #generate dag\n",
    "        if reduction:\n",
    "            gene = genotype.reduce\n",
    "            self.concat = genotype.reduce_concat\n",
    "        else:\n",
    "            gene = genotype.normal\n",
    "            self.concat = genotype.normal_concat\n",
    "        \n",
    "        self.dag = gt.to_dag(C, gene, reduction)\n",
    "        \n",
    "    def forward(self, s0, s1):\n",
    "        s0 = self.preproc0(s0)\n",
    "        s1 = self.preproc1(s1)\n",
    "        \n",
    "        states = [s0, s1]\n",
    "        for edges in self.dag:\n",
    "            s_cur = sum(op(states[op.s_idx]) for op in edges)\n",
    "            states.append(s_cur)\n",
    "            \n",
    "        s_out = torch.cat([states[i] for i in self.concat], dim=1)\n",
    "        \n",
    "        return s_out"
   ]
  }
 ],
 "metadata": {
  "kernelspec": {
   "display_name": "py36_torch1_cu10",
   "language": "python",
   "name": "py36_torch1_cu10"
  },
  "language_info": {
   "codemirror_mode": {
    "name": "ipython",
    "version": 3
   },
   "file_extension": ".py",
   "mimetype": "text/x-python",
   "name": "python",
   "nbconvert_exporter": "python",
   "pygments_lexer": "ipython3",
   "version": "3.6.8"
  }
 },
 "nbformat": 4,
 "nbformat_minor": 2
}
